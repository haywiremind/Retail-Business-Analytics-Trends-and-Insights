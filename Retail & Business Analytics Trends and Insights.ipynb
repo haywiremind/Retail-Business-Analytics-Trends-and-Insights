{
  "cells": [
    {
      "cell_type": "code",
      "execution_count": null,
      "id": "7651af56",
      "metadata": {
        "id": "7651af56"
      },
      "outputs": [],
      "source": [
        "#Installing libraries\n",
        "import pandas as pd"
      ]
    },
    {
      "cell_type": "code",
      "execution_count": null,
      "id": "483e988d",
      "metadata": {
        "id": "483e988d"
      },
      "outputs": [],
      "source": [
        "trxn= pd.read_csv('Retail_Data_Transactions.csv')"
      ]
    },
    {
      "cell_type": "code",
      "execution_count": null,
      "id": "d572a393",
      "metadata": {
        "id": "d572a393",
        "outputId": "aef4dfb0-9f16-4543-dca3-377379b4cd69"
      },
      "outputs": [
        {
          "data": {
            "text/html": [
              "<div>\n",
              "<style scoped>\n",
              "    .dataframe tbody tr th:only-of-type {\n",
              "        vertical-align: middle;\n",
              "    }\n",
              "\n",
              "    .dataframe tbody tr th {\n",
              "        vertical-align: top;\n",
              "    }\n",
              "\n",
              "    .dataframe thead th {\n",
              "        text-align: right;\n",
              "    }\n",
              "</style>\n",
              "<table border=\"1\" class=\"dataframe\">\n",
              "  <thead>\n",
              "    <tr style=\"text-align: right;\">\n",
              "      <th></th>\n",
              "      <th>customer_id</th>\n",
              "      <th>trans_date</th>\n",
              "      <th>tran_amount</th>\n",
              "    </tr>\n",
              "  </thead>\n",
              "  <tbody>\n",
              "    <tr>\n",
              "      <th>0</th>\n",
              "      <td>CS5295</td>\n",
              "      <td>11-Feb-13</td>\n",
              "      <td>35</td>\n",
              "    </tr>\n",
              "    <tr>\n",
              "      <th>1</th>\n",
              "      <td>CS4768</td>\n",
              "      <td>15-Mar-15</td>\n",
              "      <td>39</td>\n",
              "    </tr>\n",
              "    <tr>\n",
              "      <th>2</th>\n",
              "      <td>CS2122</td>\n",
              "      <td>26-Feb-13</td>\n",
              "      <td>52</td>\n",
              "    </tr>\n",
              "    <tr>\n",
              "      <th>3</th>\n",
              "      <td>CS1217</td>\n",
              "      <td>16-Nov-11</td>\n",
              "      <td>99</td>\n",
              "    </tr>\n",
              "    <tr>\n",
              "      <th>4</th>\n",
              "      <td>CS1850</td>\n",
              "      <td>20-Nov-13</td>\n",
              "      <td>78</td>\n",
              "    </tr>\n",
              "    <tr>\n",
              "      <th>...</th>\n",
              "      <td>...</td>\n",
              "      <td>...</td>\n",
              "      <td>...</td>\n",
              "    </tr>\n",
              "    <tr>\n",
              "      <th>124989</th>\n",
              "      <td>CS8433</td>\n",
              "      <td>26-Jun-11</td>\n",
              "      <td>64</td>\n",
              "    </tr>\n",
              "    <tr>\n",
              "      <th>124990</th>\n",
              "      <td>CS7232</td>\n",
              "      <td>19-Aug-14</td>\n",
              "      <td>38</td>\n",
              "    </tr>\n",
              "    <tr>\n",
              "      <th>124991</th>\n",
              "      <td>CS8731</td>\n",
              "      <td>28-Nov-14</td>\n",
              "      <td>42</td>\n",
              "    </tr>\n",
              "    <tr>\n",
              "      <th>124992</th>\n",
              "      <td>CS8133</td>\n",
              "      <td>14-Dec-13</td>\n",
              "      <td>13</td>\n",
              "    </tr>\n",
              "    <tr>\n",
              "      <th>124993</th>\n",
              "      <td>CS7996</td>\n",
              "      <td>13-Dec-14</td>\n",
              "      <td>36</td>\n",
              "    </tr>\n",
              "  </tbody>\n",
              "</table>\n",
              "<p>124994 rows × 3 columns</p>\n",
              "</div>"
            ],
            "text/plain": [
              "       customer_id trans_date  tran_amount\n",
              "0           CS5295  11-Feb-13           35\n",
              "1           CS4768  15-Mar-15           39\n",
              "2           CS2122  26-Feb-13           52\n",
              "3           CS1217  16-Nov-11           99\n",
              "4           CS1850  20-Nov-13           78\n",
              "...            ...        ...          ...\n",
              "124989      CS8433  26-Jun-11           64\n",
              "124990      CS7232  19-Aug-14           38\n",
              "124991      CS8731  28-Nov-14           42\n",
              "124992      CS8133  14-Dec-13           13\n",
              "124993      CS7996  13-Dec-14           36\n",
              "\n",
              "[124994 rows x 3 columns]"
            ]
          },
          "execution_count": 3,
          "metadata": {},
          "output_type": "execute_result"
        }
      ],
      "source": [
        "trxn"
      ]
    },
    {
      "cell_type": "code",
      "execution_count": null,
      "id": "9fe64749",
      "metadata": {
        "id": "9fe64749",
        "outputId": "147c69a8-5ea1-4a75-f869-bcab53ed5b20"
      },
      "outputs": [
        {
          "data": {
            "text/html": [
              "<div>\n",
              "<style scoped>\n",
              "    .dataframe tbody tr th:only-of-type {\n",
              "        vertical-align: middle;\n",
              "    }\n",
              "\n",
              "    .dataframe tbody tr th {\n",
              "        vertical-align: top;\n",
              "    }\n",
              "\n",
              "    .dataframe thead th {\n",
              "        text-align: right;\n",
              "    }\n",
              "</style>\n",
              "<table border=\"1\" class=\"dataframe\">\n",
              "  <thead>\n",
              "    <tr style=\"text-align: right;\">\n",
              "      <th></th>\n",
              "      <th>customer_id</th>\n",
              "      <th>response</th>\n",
              "    </tr>\n",
              "  </thead>\n",
              "  <tbody>\n",
              "    <tr>\n",
              "      <th>0</th>\n",
              "      <td>CS1112</td>\n",
              "      <td>0</td>\n",
              "    </tr>\n",
              "    <tr>\n",
              "      <th>1</th>\n",
              "      <td>CS1113</td>\n",
              "      <td>0</td>\n",
              "    </tr>\n",
              "    <tr>\n",
              "      <th>2</th>\n",
              "      <td>CS1114</td>\n",
              "      <td>1</td>\n",
              "    </tr>\n",
              "    <tr>\n",
              "      <th>3</th>\n",
              "      <td>CS1115</td>\n",
              "      <td>1</td>\n",
              "    </tr>\n",
              "    <tr>\n",
              "      <th>4</th>\n",
              "      <td>CS1116</td>\n",
              "      <td>1</td>\n",
              "    </tr>\n",
              "    <tr>\n",
              "      <th>...</th>\n",
              "      <td>...</td>\n",
              "      <td>...</td>\n",
              "    </tr>\n",
              "    <tr>\n",
              "      <th>6879</th>\n",
              "      <td>CS8996</td>\n",
              "      <td>0</td>\n",
              "    </tr>\n",
              "    <tr>\n",
              "      <th>6880</th>\n",
              "      <td>CS8997</td>\n",
              "      <td>0</td>\n",
              "    </tr>\n",
              "    <tr>\n",
              "      <th>6881</th>\n",
              "      <td>CS8998</td>\n",
              "      <td>0</td>\n",
              "    </tr>\n",
              "    <tr>\n",
              "      <th>6882</th>\n",
              "      <td>CS8999</td>\n",
              "      <td>0</td>\n",
              "    </tr>\n",
              "    <tr>\n",
              "      <th>6883</th>\n",
              "      <td>CS9000</td>\n",
              "      <td>0</td>\n",
              "    </tr>\n",
              "  </tbody>\n",
              "</table>\n",
              "<p>6884 rows × 2 columns</p>\n",
              "</div>"
            ],
            "text/plain": [
              "     customer_id  response\n",
              "0         CS1112         0\n",
              "1         CS1113         0\n",
              "2         CS1114         1\n",
              "3         CS1115         1\n",
              "4         CS1116         1\n",
              "...          ...       ...\n",
              "6879      CS8996         0\n",
              "6880      CS8997         0\n",
              "6881      CS8998         0\n",
              "6882      CS8999         0\n",
              "6883      CS9000         0\n",
              "\n",
              "[6884 rows x 2 columns]"
            ]
          },
          "execution_count": 4,
          "metadata": {},
          "output_type": "execute_result"
        }
      ],
      "source": [
        "response= pd.read_csv('Retail_Data_Response.csv')\n",
        "response"
      ]
    },
    {
      "cell_type": "code",
      "execution_count": null,
      "id": "ef737338",
      "metadata": {
        "id": "ef737338",
        "outputId": "fcc0a474-00a0-4123-d787-3f68f726848a"
      },
      "outputs": [
        {
          "data": {
            "text/html": [
              "<div>\n",
              "<style scoped>\n",
              "    .dataframe tbody tr th:only-of-type {\n",
              "        vertical-align: middle;\n",
              "    }\n",
              "\n",
              "    .dataframe tbody tr th {\n",
              "        vertical-align: top;\n",
              "    }\n",
              "\n",
              "    .dataframe thead th {\n",
              "        text-align: right;\n",
              "    }\n",
              "</style>\n",
              "<table border=\"1\" class=\"dataframe\">\n",
              "  <thead>\n",
              "    <tr style=\"text-align: right;\">\n",
              "      <th></th>\n",
              "      <th>customer_id</th>\n",
              "      <th>trans_date</th>\n",
              "      <th>tran_amount</th>\n",
              "      <th>response</th>\n",
              "    </tr>\n",
              "  </thead>\n",
              "  <tbody>\n",
              "    <tr>\n",
              "      <th>0</th>\n",
              "      <td>CS5295</td>\n",
              "      <td>11-Feb-13</td>\n",
              "      <td>35</td>\n",
              "      <td>1.0</td>\n",
              "    </tr>\n",
              "    <tr>\n",
              "      <th>1</th>\n",
              "      <td>CS4768</td>\n",
              "      <td>15-Mar-15</td>\n",
              "      <td>39</td>\n",
              "      <td>1.0</td>\n",
              "    </tr>\n",
              "    <tr>\n",
              "      <th>2</th>\n",
              "      <td>CS2122</td>\n",
              "      <td>26-Feb-13</td>\n",
              "      <td>52</td>\n",
              "      <td>0.0</td>\n",
              "    </tr>\n",
              "    <tr>\n",
              "      <th>3</th>\n",
              "      <td>CS1217</td>\n",
              "      <td>16-Nov-11</td>\n",
              "      <td>99</td>\n",
              "      <td>0.0</td>\n",
              "    </tr>\n",
              "    <tr>\n",
              "      <th>4</th>\n",
              "      <td>CS1850</td>\n",
              "      <td>20-Nov-13</td>\n",
              "      <td>78</td>\n",
              "      <td>0.0</td>\n",
              "    </tr>\n",
              "    <tr>\n",
              "      <th>...</th>\n",
              "      <td>...</td>\n",
              "      <td>...</td>\n",
              "      <td>...</td>\n",
              "      <td>...</td>\n",
              "    </tr>\n",
              "    <tr>\n",
              "      <th>124989</th>\n",
              "      <td>CS8433</td>\n",
              "      <td>26-Jun-11</td>\n",
              "      <td>64</td>\n",
              "      <td>0.0</td>\n",
              "    </tr>\n",
              "    <tr>\n",
              "      <th>124990</th>\n",
              "      <td>CS7232</td>\n",
              "      <td>19-Aug-14</td>\n",
              "      <td>38</td>\n",
              "      <td>0.0</td>\n",
              "    </tr>\n",
              "    <tr>\n",
              "      <th>124991</th>\n",
              "      <td>CS8731</td>\n",
              "      <td>28-Nov-14</td>\n",
              "      <td>42</td>\n",
              "      <td>0.0</td>\n",
              "    </tr>\n",
              "    <tr>\n",
              "      <th>124992</th>\n",
              "      <td>CS8133</td>\n",
              "      <td>14-Dec-13</td>\n",
              "      <td>13</td>\n",
              "      <td>0.0</td>\n",
              "    </tr>\n",
              "    <tr>\n",
              "      <th>124993</th>\n",
              "      <td>CS7996</td>\n",
              "      <td>13-Dec-14</td>\n",
              "      <td>36</td>\n",
              "      <td>0.0</td>\n",
              "    </tr>\n",
              "  </tbody>\n",
              "</table>\n",
              "<p>124994 rows × 4 columns</p>\n",
              "</div>"
            ],
            "text/plain": [
              "       customer_id trans_date  tran_amount  response\n",
              "0           CS5295  11-Feb-13           35       1.0\n",
              "1           CS4768  15-Mar-15           39       1.0\n",
              "2           CS2122  26-Feb-13           52       0.0\n",
              "3           CS1217  16-Nov-11           99       0.0\n",
              "4           CS1850  20-Nov-13           78       0.0\n",
              "...            ...        ...          ...       ...\n",
              "124989      CS8433  26-Jun-11           64       0.0\n",
              "124990      CS7232  19-Aug-14           38       0.0\n",
              "124991      CS8731  28-Nov-14           42       0.0\n",
              "124992      CS8133  14-Dec-13           13       0.0\n",
              "124993      CS7996  13-Dec-14           36       0.0\n",
              "\n",
              "[124994 rows x 4 columns]"
            ]
          },
          "execution_count": 5,
          "metadata": {},
          "output_type": "execute_result"
        }
      ],
      "source": [
        "df= trxn.merge(response, on='customer_id', how='left')\n",
        "df"
      ]
    },
    {
      "cell_type": "code",
      "execution_count": null,
      "id": "1bab0aaf",
      "metadata": {
        "id": "1bab0aaf",
        "outputId": "19e0a4e7-b347-4de5-b31c-7f883b9de65a"
      },
      "outputs": [
        {
          "data": {
            "text/html": [
              "<div>\n",
              "<style scoped>\n",
              "    .dataframe tbody tr th:only-of-type {\n",
              "        vertical-align: middle;\n",
              "    }\n",
              "\n",
              "    .dataframe tbody tr th {\n",
              "        vertical-align: top;\n",
              "    }\n",
              "\n",
              "    .dataframe thead th {\n",
              "        text-align: right;\n",
              "    }\n",
              "</style>\n",
              "<table border=\"1\" class=\"dataframe\">\n",
              "  <thead>\n",
              "    <tr style=\"text-align: right;\">\n",
              "      <th></th>\n",
              "      <th>customer_id</th>\n",
              "      <th>trans_date</th>\n",
              "      <th>tran_amount</th>\n",
              "      <th>response</th>\n",
              "    </tr>\n",
              "  </thead>\n",
              "  <tbody>\n",
              "    <tr>\n",
              "      <th>124989</th>\n",
              "      <td>CS8433</td>\n",
              "      <td>26-Jun-11</td>\n",
              "      <td>64</td>\n",
              "      <td>0.0</td>\n",
              "    </tr>\n",
              "    <tr>\n",
              "      <th>124990</th>\n",
              "      <td>CS7232</td>\n",
              "      <td>19-Aug-14</td>\n",
              "      <td>38</td>\n",
              "      <td>0.0</td>\n",
              "    </tr>\n",
              "    <tr>\n",
              "      <th>124991</th>\n",
              "      <td>CS8731</td>\n",
              "      <td>28-Nov-14</td>\n",
              "      <td>42</td>\n",
              "      <td>0.0</td>\n",
              "    </tr>\n",
              "    <tr>\n",
              "      <th>124992</th>\n",
              "      <td>CS8133</td>\n",
              "      <td>14-Dec-13</td>\n",
              "      <td>13</td>\n",
              "      <td>0.0</td>\n",
              "    </tr>\n",
              "    <tr>\n",
              "      <th>124993</th>\n",
              "      <td>CS7996</td>\n",
              "      <td>13-Dec-14</td>\n",
              "      <td>36</td>\n",
              "      <td>0.0</td>\n",
              "    </tr>\n",
              "  </tbody>\n",
              "</table>\n",
              "</div>"
            ],
            "text/plain": [
              "       customer_id trans_date  tran_amount  response\n",
              "124989      CS8433  26-Jun-11           64       0.0\n",
              "124990      CS7232  19-Aug-14           38       0.0\n",
              "124991      CS8731  28-Nov-14           42       0.0\n",
              "124992      CS8133  14-Dec-13           13       0.0\n",
              "124993      CS7996  13-Dec-14           36       0.0"
            ]
          },
          "execution_count": 6,
          "metadata": {},
          "output_type": "execute_result"
        }
      ],
      "source": [
        "# features\n",
        "\n",
        "df.dtypes\n",
        "df.shape\n",
        "df.tail()"
      ]
    },
    {
      "cell_type": "code",
      "execution_count": null,
      "id": "7bb23a29",
      "metadata": {
        "id": "7bb23a29",
        "outputId": "c2b29dd6-d687-49fb-9c39-a0a84860b407"
      },
      "outputs": [
        {
          "data": {
            "text/html": [
              "<div>\n",
              "<style scoped>\n",
              "    .dataframe tbody tr th:only-of-type {\n",
              "        vertical-align: middle;\n",
              "    }\n",
              "\n",
              "    .dataframe tbody tr th {\n",
              "        vertical-align: top;\n",
              "    }\n",
              "\n",
              "    .dataframe thead th {\n",
              "        text-align: right;\n",
              "    }\n",
              "</style>\n",
              "<table border=\"1\" class=\"dataframe\">\n",
              "  <thead>\n",
              "    <tr style=\"text-align: right;\">\n",
              "      <th></th>\n",
              "      <th>tran_amount</th>\n",
              "      <th>response</th>\n",
              "    </tr>\n",
              "  </thead>\n",
              "  <tbody>\n",
              "    <tr>\n",
              "      <th>count</th>\n",
              "      <td>124994.000000</td>\n",
              "      <td>124963.000000</td>\n",
              "    </tr>\n",
              "    <tr>\n",
              "      <th>mean</th>\n",
              "      <td>64.992504</td>\n",
              "      <td>0.110761</td>\n",
              "    </tr>\n",
              "    <tr>\n",
              "      <th>std</th>\n",
              "      <td>22.859952</td>\n",
              "      <td>0.313837</td>\n",
              "    </tr>\n",
              "    <tr>\n",
              "      <th>min</th>\n",
              "      <td>10.000000</td>\n",
              "      <td>0.000000</td>\n",
              "    </tr>\n",
              "    <tr>\n",
              "      <th>25%</th>\n",
              "      <td>47.000000</td>\n",
              "      <td>0.000000</td>\n",
              "    </tr>\n",
              "    <tr>\n",
              "      <th>50%</th>\n",
              "      <td>65.000000</td>\n",
              "      <td>0.000000</td>\n",
              "    </tr>\n",
              "    <tr>\n",
              "      <th>75%</th>\n",
              "      <td>83.000000</td>\n",
              "      <td>0.000000</td>\n",
              "    </tr>\n",
              "    <tr>\n",
              "      <th>max</th>\n",
              "      <td>105.000000</td>\n",
              "      <td>1.000000</td>\n",
              "    </tr>\n",
              "  </tbody>\n",
              "</table>\n",
              "</div>"
            ],
            "text/plain": [
              "         tran_amount       response\n",
              "count  124994.000000  124963.000000\n",
              "mean       64.992504       0.110761\n",
              "std        22.859952       0.313837\n",
              "min        10.000000       0.000000\n",
              "25%        47.000000       0.000000\n",
              "50%        65.000000       0.000000\n",
              "75%        83.000000       0.000000\n",
              "max       105.000000       1.000000"
            ]
          },
          "execution_count": 7,
          "metadata": {},
          "output_type": "execute_result"
        }
      ],
      "source": [
        "df.describe()"
      ]
    },
    {
      "cell_type": "code",
      "execution_count": null,
      "id": "982c3113",
      "metadata": {
        "id": "982c3113",
        "outputId": "68e51589-e136-4c44-cb54-b0ee4edad656"
      },
      "outputs": [
        {
          "data": {
            "text/plain": [
              "customer_id     0\n",
              "trans_date      0\n",
              "tran_amount     0\n",
              "response       31\n",
              "dtype: int64"
            ]
          },
          "execution_count": 8,
          "metadata": {},
          "output_type": "execute_result"
        }
      ],
      "source": [
        "# MISSING VALUES\n",
        "\n",
        "df.isnull().sum()"
      ]
    },
    {
      "cell_type": "code",
      "execution_count": null,
      "id": "2bf9132d",
      "metadata": {
        "id": "2bf9132d"
      },
      "outputs": [],
      "source": [
        "df=df.dropna()"
      ]
    },
    {
      "cell_type": "code",
      "execution_count": null,
      "id": "a21c4b82",
      "metadata": {
        "id": "a21c4b82",
        "outputId": "1e4907dc-6d52-4e1b-e88d-417d552fbffa"
      },
      "outputs": [
        {
          "data": {
            "text/html": [
              "<div>\n",
              "<style scoped>\n",
              "    .dataframe tbody tr th:only-of-type {\n",
              "        vertical-align: middle;\n",
              "    }\n",
              "\n",
              "    .dataframe tbody tr th {\n",
              "        vertical-align: top;\n",
              "    }\n",
              "\n",
              "    .dataframe thead th {\n",
              "        text-align: right;\n",
              "    }\n",
              "</style>\n",
              "<table border=\"1\" class=\"dataframe\">\n",
              "  <thead>\n",
              "    <tr style=\"text-align: right;\">\n",
              "      <th></th>\n",
              "      <th>customer_id</th>\n",
              "      <th>trans_date</th>\n",
              "      <th>tran_amount</th>\n",
              "      <th>response</th>\n",
              "    </tr>\n",
              "  </thead>\n",
              "  <tbody>\n",
              "    <tr>\n",
              "      <th>0</th>\n",
              "      <td>CS5295</td>\n",
              "      <td>11-Feb-13</td>\n",
              "      <td>35</td>\n",
              "      <td>1.0</td>\n",
              "    </tr>\n",
              "    <tr>\n",
              "      <th>1</th>\n",
              "      <td>CS4768</td>\n",
              "      <td>15-Mar-15</td>\n",
              "      <td>39</td>\n",
              "      <td>1.0</td>\n",
              "    </tr>\n",
              "    <tr>\n",
              "      <th>2</th>\n",
              "      <td>CS2122</td>\n",
              "      <td>26-Feb-13</td>\n",
              "      <td>52</td>\n",
              "      <td>0.0</td>\n",
              "    </tr>\n",
              "    <tr>\n",
              "      <th>3</th>\n",
              "      <td>CS1217</td>\n",
              "      <td>16-Nov-11</td>\n",
              "      <td>99</td>\n",
              "      <td>0.0</td>\n",
              "    </tr>\n",
              "    <tr>\n",
              "      <th>4</th>\n",
              "      <td>CS1850</td>\n",
              "      <td>20-Nov-13</td>\n",
              "      <td>78</td>\n",
              "      <td>0.0</td>\n",
              "    </tr>\n",
              "    <tr>\n",
              "      <th>...</th>\n",
              "      <td>...</td>\n",
              "      <td>...</td>\n",
              "      <td>...</td>\n",
              "      <td>...</td>\n",
              "    </tr>\n",
              "    <tr>\n",
              "      <th>124989</th>\n",
              "      <td>CS8433</td>\n",
              "      <td>26-Jun-11</td>\n",
              "      <td>64</td>\n",
              "      <td>0.0</td>\n",
              "    </tr>\n",
              "    <tr>\n",
              "      <th>124990</th>\n",
              "      <td>CS7232</td>\n",
              "      <td>19-Aug-14</td>\n",
              "      <td>38</td>\n",
              "      <td>0.0</td>\n",
              "    </tr>\n",
              "    <tr>\n",
              "      <th>124991</th>\n",
              "      <td>CS8731</td>\n",
              "      <td>28-Nov-14</td>\n",
              "      <td>42</td>\n",
              "      <td>0.0</td>\n",
              "    </tr>\n",
              "    <tr>\n",
              "      <th>124992</th>\n",
              "      <td>CS8133</td>\n",
              "      <td>14-Dec-13</td>\n",
              "      <td>13</td>\n",
              "      <td>0.0</td>\n",
              "    </tr>\n",
              "    <tr>\n",
              "      <th>124993</th>\n",
              "      <td>CS7996</td>\n",
              "      <td>13-Dec-14</td>\n",
              "      <td>36</td>\n",
              "      <td>0.0</td>\n",
              "    </tr>\n",
              "  </tbody>\n",
              "</table>\n",
              "<p>124963 rows × 4 columns</p>\n",
              "</div>"
            ],
            "text/plain": [
              "       customer_id trans_date  tran_amount  response\n",
              "0           CS5295  11-Feb-13           35       1.0\n",
              "1           CS4768  15-Mar-15           39       1.0\n",
              "2           CS2122  26-Feb-13           52       0.0\n",
              "3           CS1217  16-Nov-11           99       0.0\n",
              "4           CS1850  20-Nov-13           78       0.0\n",
              "...            ...        ...          ...       ...\n",
              "124989      CS8433  26-Jun-11           64       0.0\n",
              "124990      CS7232  19-Aug-14           38       0.0\n",
              "124991      CS8731  28-Nov-14           42       0.0\n",
              "124992      CS8133  14-Dec-13           13       0.0\n",
              "124993      CS7996  13-Dec-14           36       0.0\n",
              "\n",
              "[124963 rows x 4 columns]"
            ]
          },
          "execution_count": 10,
          "metadata": {},
          "output_type": "execute_result"
        }
      ],
      "source": [
        "df"
      ]
    },
    {
      "cell_type": "code",
      "execution_count": null,
      "id": "8ade4e01",
      "metadata": {
        "id": "8ade4e01",
        "outputId": "f1afa2b2-2d4c-4e6a-951b-a7d50955b0fa"
      },
      "outputs": [
        {
          "name": "stderr",
          "output_type": "stream",
          "text": [
            "C:\\Users\\new\\AppData\\Local\\Temp\\ipykernel_9528\\2474506332.py:3: UserWarning: Could not infer format, so each element will be parsed individually, falling back to `dateutil`. To ensure parsing is consistent and as-expected, please specify a format.\n",
            "  df['trans_date']= pd.to_datetime(df['trans_date'])\n",
            "C:\\Users\\new\\AppData\\Local\\Temp\\ipykernel_9528\\2474506332.py:3: SettingWithCopyWarning: \n",
            "A value is trying to be set on a copy of a slice from a DataFrame.\n",
            "Try using .loc[row_indexer,col_indexer] = value instead\n",
            "\n",
            "See the caveats in the documentation: https://pandas.pydata.org/pandas-docs/stable/user_guide/indexing.html#returning-a-view-versus-a-copy\n",
            "  df['trans_date']= pd.to_datetime(df['trans_date'])\n",
            "C:\\Users\\new\\AppData\\Local\\Temp\\ipykernel_9528\\2474506332.py:4: SettingWithCopyWarning: \n",
            "A value is trying to be set on a copy of a slice from a DataFrame.\n",
            "Try using .loc[row_indexer,col_indexer] = value instead\n",
            "\n",
            "See the caveats in the documentation: https://pandas.pydata.org/pandas-docs/stable/user_guide/indexing.html#returning-a-view-versus-a-copy\n",
            "  df['response']= df['response'].astype('int64')\n"
          ]
        }
      ],
      "source": [
        "# change dtypes\n",
        "\n",
        "df['trans_date']= pd.to_datetime(df['trans_date'])\n",
        "df['response']= df['response'].astype('int64')"
      ]
    },
    {
      "cell_type": "code",
      "execution_count": null,
      "id": "67396b3d",
      "metadata": {
        "id": "67396b3d",
        "outputId": "467927c6-db8a-4077-d9f1-69f575517249"
      },
      "outputs": [
        {
          "data": {
            "text/html": [
              "<div>\n",
              "<style scoped>\n",
              "    .dataframe tbody tr th:only-of-type {\n",
              "        vertical-align: middle;\n",
              "    }\n",
              "\n",
              "    .dataframe tbody tr th {\n",
              "        vertical-align: top;\n",
              "    }\n",
              "\n",
              "    .dataframe thead th {\n",
              "        text-align: right;\n",
              "    }\n",
              "</style>\n",
              "<table border=\"1\" class=\"dataframe\">\n",
              "  <thead>\n",
              "    <tr style=\"text-align: right;\">\n",
              "      <th></th>\n",
              "      <th>customer_id</th>\n",
              "      <th>trans_date</th>\n",
              "      <th>tran_amount</th>\n",
              "      <th>response</th>\n",
              "    </tr>\n",
              "  </thead>\n",
              "  <tbody>\n",
              "    <tr>\n",
              "      <th>0</th>\n",
              "      <td>CS5295</td>\n",
              "      <td>2013-02-11</td>\n",
              "      <td>35</td>\n",
              "      <td>1</td>\n",
              "    </tr>\n",
              "    <tr>\n",
              "      <th>1</th>\n",
              "      <td>CS4768</td>\n",
              "      <td>2015-03-15</td>\n",
              "      <td>39</td>\n",
              "      <td>1</td>\n",
              "    </tr>\n",
              "    <tr>\n",
              "      <th>2</th>\n",
              "      <td>CS2122</td>\n",
              "      <td>2013-02-26</td>\n",
              "      <td>52</td>\n",
              "      <td>0</td>\n",
              "    </tr>\n",
              "    <tr>\n",
              "      <th>3</th>\n",
              "      <td>CS1217</td>\n",
              "      <td>2011-11-16</td>\n",
              "      <td>99</td>\n",
              "      <td>0</td>\n",
              "    </tr>\n",
              "    <tr>\n",
              "      <th>4</th>\n",
              "      <td>CS1850</td>\n",
              "      <td>2013-11-20</td>\n",
              "      <td>78</td>\n",
              "      <td>0</td>\n",
              "    </tr>\n",
              "    <tr>\n",
              "      <th>...</th>\n",
              "      <td>...</td>\n",
              "      <td>...</td>\n",
              "      <td>...</td>\n",
              "      <td>...</td>\n",
              "    </tr>\n",
              "    <tr>\n",
              "      <th>124989</th>\n",
              "      <td>CS8433</td>\n",
              "      <td>2011-06-26</td>\n",
              "      <td>64</td>\n",
              "      <td>0</td>\n",
              "    </tr>\n",
              "    <tr>\n",
              "      <th>124990</th>\n",
              "      <td>CS7232</td>\n",
              "      <td>2014-08-19</td>\n",
              "      <td>38</td>\n",
              "      <td>0</td>\n",
              "    </tr>\n",
              "    <tr>\n",
              "      <th>124991</th>\n",
              "      <td>CS8731</td>\n",
              "      <td>2014-11-28</td>\n",
              "      <td>42</td>\n",
              "      <td>0</td>\n",
              "    </tr>\n",
              "    <tr>\n",
              "      <th>124992</th>\n",
              "      <td>CS8133</td>\n",
              "      <td>2013-12-14</td>\n",
              "      <td>13</td>\n",
              "      <td>0</td>\n",
              "    </tr>\n",
              "    <tr>\n",
              "      <th>124993</th>\n",
              "      <td>CS7996</td>\n",
              "      <td>2014-12-13</td>\n",
              "      <td>36</td>\n",
              "      <td>0</td>\n",
              "    </tr>\n",
              "  </tbody>\n",
              "</table>\n",
              "<p>124963 rows × 4 columns</p>\n",
              "</div>"
            ],
            "text/plain": [
              "       customer_id trans_date  tran_amount  response\n",
              "0           CS5295 2013-02-11           35         1\n",
              "1           CS4768 2015-03-15           39         1\n",
              "2           CS2122 2013-02-26           52         0\n",
              "3           CS1217 2011-11-16           99         0\n",
              "4           CS1850 2013-11-20           78         0\n",
              "...            ...        ...          ...       ...\n",
              "124989      CS8433 2011-06-26           64         0\n",
              "124990      CS7232 2014-08-19           38         0\n",
              "124991      CS8731 2014-11-28           42         0\n",
              "124992      CS8133 2013-12-14           13         0\n",
              "124993      CS7996 2014-12-13           36         0\n",
              "\n",
              "[124963 rows x 4 columns]"
            ]
          },
          "execution_count": 12,
          "metadata": {},
          "output_type": "execute_result"
        }
      ],
      "source": [
        "df"
      ]
    },
    {
      "cell_type": "code",
      "execution_count": null,
      "id": "87ba125d",
      "metadata": {
        "id": "87ba125d",
        "outputId": "28538c69-82eb-426e-8b3d-638ebe302606"
      },
      "outputs": [
        {
          "data": {
            "text/plain": [
              "{0, 1}"
            ]
          },
          "execution_count": 13,
          "metadata": {},
          "output_type": "execute_result"
        }
      ],
      "source": [
        "set(df['response'])"
      ]
    },
    {
      "cell_type": "code",
      "execution_count": null,
      "id": "d2cfaeb3",
      "metadata": {
        "id": "d2cfaeb3",
        "outputId": "5615b64b-a102-4de3-d94a-bb24b79066fb"
      },
      "outputs": [
        {
          "data": {
            "text/plain": [
              "customer_id            object\n",
              "trans_date     datetime64[ns]\n",
              "tran_amount             int64\n",
              "response                int64\n",
              "dtype: object"
            ]
          },
          "execution_count": 14,
          "metadata": {},
          "output_type": "execute_result"
        }
      ],
      "source": [
        "df.dtypes"
      ]
    },
    {
      "cell_type": "code",
      "execution_count": null,
      "id": "ad0f2205",
      "metadata": {
        "id": "ad0f2205",
        "outputId": "7158b29d-46c3-42c9-93e7-5698eace425f"
      },
      "outputs": [
        {
          "name": "stdout",
          "output_type": "stream",
          "text": [
            "Empty DataFrame\n",
            "Columns: [customer_id, trans_date, tran_amount, response]\n",
            "Index: []\n"
          ]
        }
      ],
      "source": [
        "# check for outliers\n",
        "#Z-SCORE\n",
        "\n",
        "from scipy import stats\n",
        "import numpy as np\n",
        "\n",
        "#calc z score\n",
        "z_scores= np.abs(stats.zscore(df['tran_amount']))\n",
        "\n",
        "#set a threshold\n",
        "\n",
        "threshold= 3\n",
        "\n",
        "outliers= z_scores>threshold\n",
        "\n",
        "\n",
        "print(df[outliers])\n"
      ]
    },
    {
      "cell_type": "code",
      "execution_count": null,
      "id": "6846cae6",
      "metadata": {
        "id": "6846cae6",
        "outputId": "297345fd-ca94-4693-d64b-ca21e8dfbcdb"
      },
      "outputs": [
        {
          "name": "stdout",
          "output_type": "stream",
          "text": [
            "Empty DataFrame\n",
            "Columns: [customer_id, trans_date, tran_amount, response]\n",
            "Index: []\n"
          ]
        }
      ],
      "source": [
        "# check for outliers\n",
        "#Z-SCORE\n",
        "\n",
        "from scipy import stats\n",
        "import numpy as np\n",
        "\n",
        "#calc z score\n",
        "z_scores= np.abs(stats.zscore(df['response']))\n",
        "\n",
        "#set a threshold\n",
        "\n",
        "threshold= 3\n",
        "\n",
        "outliers= z_scores>threshold\n",
        "\n",
        "\n",
        "print(df[outliers])"
      ]
    },
    {
      "cell_type": "code",
      "execution_count": null,
      "id": "5c0a81ca",
      "metadata": {
        "id": "5c0a81ca",
        "outputId": "ba7bf9c4-a469-4986-fb89-ee6ff413e7b3"
      },
      "outputs": [
        {
          "data": {
            "image/png": "[encoded data removed]",
            "text/plain": [
              "<Figure size 640x480 with 1 Axes>"
            ]
          },
          "metadata": {},
          "output_type": "display_data"
        }
      ],
      "source": [
        "import seaborn as sns\n",
        "import matplotlib.pyplot as plt\n",
        "\n",
        "sns.boxplot(x=df['tran_amount'])\n",
        "plt.show()"
      ]
    },
    {
      "cell_type": "code",
      "execution_count": null,
      "id": "50fc6e2c",
      "metadata": {
        "id": "50fc6e2c",
        "outputId": "7f555980-320a-447f-c32b-7f36bee3974d"
      },
      "outputs": [
        {
          "name": "stderr",
          "output_type": "stream",
          "text": [
            "C:\\Users\\new\\AppData\\Local\\Temp\\ipykernel_9528\\197175934.py:3: SettingWithCopyWarning: \n",
            "A value is trying to be set on a copy of a slice from a DataFrame.\n",
            "Try using .loc[row_indexer,col_indexer] = value instead\n",
            "\n",
            "See the caveats in the documentation: https://pandas.pydata.org/pandas-docs/stable/user_guide/indexing.html#returning-a-view-versus-a-copy\n",
            "  df['month']= df['trans_date'].dt.month\n"
          ]
        }
      ],
      "source": [
        "# creating new columns\n",
        "\n",
        "df['month']= df['trans_date'].dt.month"
      ]
    },
    {
      "cell_type": "code",
      "execution_count": null,
      "id": "b860aacd",
      "metadata": {
        "id": "b860aacd",
        "outputId": "bc06fdde-1390-42c7-bb30-73708081500b"
      },
      "outputs": [
        {
          "data": {
            "text/html": [
              "<div>\n",
              "<style scoped>\n",
              "    .dataframe tbody tr th:only-of-type {\n",
              "        vertical-align: middle;\n",
              "    }\n",
              "\n",
              "    .dataframe tbody tr th {\n",
              "        vertical-align: top;\n",
              "    }\n",
              "\n",
              "    .dataframe thead th {\n",
              "        text-align: right;\n",
              "    }\n",
              "</style>\n",
              "<table border=\"1\" class=\"dataframe\">\n",
              "  <thead>\n",
              "    <tr style=\"text-align: right;\">\n",
              "      <th></th>\n",
              "      <th>customer_id</th>\n",
              "      <th>trans_date</th>\n",
              "      <th>tran_amount</th>\n",
              "      <th>response</th>\n",
              "      <th>month</th>\n",
              "    </tr>\n",
              "  </thead>\n",
              "  <tbody>\n",
              "    <tr>\n",
              "      <th>0</th>\n",
              "      <td>CS5295</td>\n",
              "      <td>2013-02-11</td>\n",
              "      <td>35</td>\n",
              "      <td>1</td>\n",
              "      <td>2</td>\n",
              "    </tr>\n",
              "    <tr>\n",
              "      <th>1</th>\n",
              "      <td>CS4768</td>\n",
              "      <td>2015-03-15</td>\n",
              "      <td>39</td>\n",
              "      <td>1</td>\n",
              "      <td>3</td>\n",
              "    </tr>\n",
              "    <tr>\n",
              "      <th>2</th>\n",
              "      <td>CS2122</td>\n",
              "      <td>2013-02-26</td>\n",
              "      <td>52</td>\n",
              "      <td>0</td>\n",
              "      <td>2</td>\n",
              "    </tr>\n",
              "    <tr>\n",
              "      <th>3</th>\n",
              "      <td>CS1217</td>\n",
              "      <td>2011-11-16</td>\n",
              "      <td>99</td>\n",
              "      <td>0</td>\n",
              "      <td>11</td>\n",
              "    </tr>\n",
              "    <tr>\n",
              "      <th>4</th>\n",
              "      <td>CS1850</td>\n",
              "      <td>2013-11-20</td>\n",
              "      <td>78</td>\n",
              "      <td>0</td>\n",
              "      <td>11</td>\n",
              "    </tr>\n",
              "    <tr>\n",
              "      <th>...</th>\n",
              "      <td>...</td>\n",
              "      <td>...</td>\n",
              "      <td>...</td>\n",
              "      <td>...</td>\n",
              "      <td>...</td>\n",
              "    </tr>\n",
              "    <tr>\n",
              "      <th>124989</th>\n",
              "      <td>CS8433</td>\n",
              "      <td>2011-06-26</td>\n",
              "      <td>64</td>\n",
              "      <td>0</td>\n",
              "      <td>6</td>\n",
              "    </tr>\n",
              "    <tr>\n",
              "      <th>124990</th>\n",
              "      <td>CS7232</td>\n",
              "      <td>2014-08-19</td>\n",
              "      <td>38</td>\n",
              "      <td>0</td>\n",
              "      <td>8</td>\n",
              "    </tr>\n",
              "    <tr>\n",
              "      <th>124991</th>\n",
              "      <td>CS8731</td>\n",
              "      <td>2014-11-28</td>\n",
              "      <td>42</td>\n",
              "      <td>0</td>\n",
              "      <td>11</td>\n",
              "    </tr>\n",
              "    <tr>\n",
              "      <th>124992</th>\n",
              "      <td>CS8133</td>\n",
              "      <td>2013-12-14</td>\n",
              "      <td>13</td>\n",
              "      <td>0</td>\n",
              "      <td>12</td>\n",
              "    </tr>\n",
              "    <tr>\n",
              "      <th>124993</th>\n",
              "      <td>CS7996</td>\n",
              "      <td>2014-12-13</td>\n",
              "      <td>36</td>\n",
              "      <td>0</td>\n",
              "      <td>12</td>\n",
              "    </tr>\n",
              "  </tbody>\n",
              "</table>\n",
              "<p>124963 rows × 5 columns</p>\n",
              "</div>"
            ],
            "text/plain": [
              "       customer_id trans_date  tran_amount  response  month\n",
              "0           CS5295 2013-02-11           35         1      2\n",
              "1           CS4768 2015-03-15           39         1      3\n",
              "2           CS2122 2013-02-26           52         0      2\n",
              "3           CS1217 2011-11-16           99         0     11\n",
              "4           CS1850 2013-11-20           78         0     11\n",
              "...            ...        ...          ...       ...    ...\n",
              "124989      CS8433 2011-06-26           64         0      6\n",
              "124990      CS7232 2014-08-19           38         0      8\n",
              "124991      CS8731 2014-11-28           42         0     11\n",
              "124992      CS8133 2013-12-14           13         0     12\n",
              "124993      CS7996 2014-12-13           36         0     12\n",
              "\n",
              "[124963 rows x 5 columns]"
            ]
          },
          "execution_count": 19,
          "metadata": {},
          "output_type": "execute_result"
        }
      ],
      "source": [
        "df"
      ]
    },
    {
      "cell_type": "code",
      "execution_count": null,
      "id": "7b86d099",
      "metadata": {
        "id": "7b86d099",
        "outputId": "f14568f7-ebd9-469b-c905-b1f165b3607a"
      },
      "outputs": [
        {
          "data": {
            "text/html": [
              "<div>\n",
              "<style scoped>\n",
              "    .dataframe tbody tr th:only-of-type {\n",
              "        vertical-align: middle;\n",
              "    }\n",
              "\n",
              "    .dataframe tbody tr th {\n",
              "        vertical-align: top;\n",
              "    }\n",
              "\n",
              "    .dataframe thead th {\n",
              "        text-align: right;\n",
              "    }\n",
              "</style>\n",
              "<table border=\"1\" class=\"dataframe\">\n",
              "  <thead>\n",
              "    <tr style=\"text-align: right;\">\n",
              "      <th></th>\n",
              "      <th>month</th>\n",
              "      <th>tran_amount</th>\n",
              "    </tr>\n",
              "  </thead>\n",
              "  <tbody>\n",
              "    <tr>\n",
              "      <th>0</th>\n",
              "      <td>8</td>\n",
              "      <td>726775</td>\n",
              "    </tr>\n",
              "    <tr>\n",
              "      <th>1</th>\n",
              "      <td>10</td>\n",
              "      <td>725010</td>\n",
              "    </tr>\n",
              "    <tr>\n",
              "      <th>2</th>\n",
              "      <td>1</td>\n",
              "      <td>724089</td>\n",
              "    </tr>\n",
              "  </tbody>\n",
              "</table>\n",
              "</div>"
            ],
            "text/plain": [
              "   month  tran_amount\n",
              "0      8       726775\n",
              "1     10       725010\n",
              "2      1       724089"
            ]
          },
          "execution_count": 20,
          "metadata": {},
          "output_type": "execute_result"
        }
      ],
      "source": [
        "# Which 3 months have had the highest transaction amounts?\n",
        "\n",
        "monthly_Sales= df.groupby('month')['tran_amount'].sum()\n",
        "monthly_Sales= monthly_Sales.sort_values(ascending=False).reset_index().head(3)\n",
        "monthly_Sales"
      ]
    },
    {
      "cell_type": "code",
      "execution_count": null,
      "id": "26f78570",
      "metadata": {
        "id": "26f78570",
        "outputId": "5252aac3-01dc-4541-a40e-7e15dee02834"
      },
      "outputs": [
        {
          "data": {
            "text/html": [
              "<div>\n",
              "<style scoped>\n",
              "    .dataframe tbody tr th:only-of-type {\n",
              "        vertical-align: middle;\n",
              "    }\n",
              "\n",
              "    .dataframe tbody tr th {\n",
              "        vertical-align: top;\n",
              "    }\n",
              "\n",
              "    .dataframe thead th {\n",
              "        text-align: right;\n",
              "    }\n",
              "</style>\n",
              "<table border=\"1\" class=\"dataframe\">\n",
              "  <thead>\n",
              "    <tr style=\"text-align: right;\">\n",
              "      <th></th>\n",
              "      <th>customer_id</th>\n",
              "      <th>count</th>\n",
              "    </tr>\n",
              "  </thead>\n",
              "  <tbody>\n",
              "    <tr>\n",
              "      <th>0</th>\n",
              "      <td>CS4424</td>\n",
              "      <td>39</td>\n",
              "    </tr>\n",
              "    <tr>\n",
              "      <th>1</th>\n",
              "      <td>CS4320</td>\n",
              "      <td>38</td>\n",
              "    </tr>\n",
              "    <tr>\n",
              "      <th>2</th>\n",
              "      <td>CS3799</td>\n",
              "      <td>36</td>\n",
              "    </tr>\n",
              "    <tr>\n",
              "      <th>3</th>\n",
              "      <td>CS3013</td>\n",
              "      <td>35</td>\n",
              "    </tr>\n",
              "    <tr>\n",
              "      <th>4</th>\n",
              "      <td>CS1215</td>\n",
              "      <td>35</td>\n",
              "    </tr>\n",
              "  </tbody>\n",
              "</table>\n",
              "</div>"
            ],
            "text/plain": [
              "  customer_id  count\n",
              "0      CS4424     39\n",
              "1      CS4320     38\n",
              "2      CS3799     36\n",
              "3      CS3013     35\n",
              "4      CS1215     35"
            ]
          },
          "execution_count": 21,
          "metadata": {},
          "output_type": "execute_result"
        }
      ],
      "source": [
        "# Customers having highest num of orders\n",
        "\n",
        "customer_counts= df['customer_id'].value_counts().reset_index()\n",
        "customer_counts.columns=['customer_id','count']\n",
        "\n",
        "# sort\n",
        "\n",
        "top_5_cus= customer_counts.sort_values(by='count', ascending=False).head(5)\n",
        "top_5_cus"
      ]
    },
    {
      "cell_type": "code",
      "execution_count": null,
      "id": "738bd719",
      "metadata": {
        "id": "738bd719",
        "outputId": "be78cc33-0d2f-4ffc-e8d0-9faabbce5cca"
      },
      "outputs": [
        {
          "data": {
            "text/plain": [
              "<Axes: xlabel='customer_id', ylabel='count'>"
            ]
          },
          "execution_count": 22,
          "metadata": {},
          "output_type": "execute_result"
        },
        {
          "data": {
            "image/png": "[encoded data removed]",
            "text/plain": [
              "<Figure size 640x480 with 1 Axes>"
            ]
          },
          "metadata": {},
          "output_type": "display_data"
        }
      ],
      "source": [
        "sns.barplot(x='customer_id',y='count',data=top_5_cus)"
      ]
    },
    {
      "cell_type": "code",
      "execution_count": null,
      "id": "df53e135",
      "metadata": {
        "id": "df53e135",
        "outputId": "8b9b2f28-03e2-4837-a6c8-32acd13caae1"
      },
      "outputs": [
        {
          "data": {
            "text/html": [
              "<div>\n",
              "<style scoped>\n",
              "    .dataframe tbody tr th:only-of-type {\n",
              "        vertical-align: middle;\n",
              "    }\n",
              "\n",
              "    .dataframe tbody tr th {\n",
              "        vertical-align: top;\n",
              "    }\n",
              "\n",
              "    .dataframe thead th {\n",
              "        text-align: right;\n",
              "    }\n",
              "</style>\n",
              "<table border=\"1\" class=\"dataframe\">\n",
              "  <thead>\n",
              "    <tr style=\"text-align: right;\">\n",
              "      <th></th>\n",
              "      <th>customer_id</th>\n",
              "      <th>tran_amount</th>\n",
              "    </tr>\n",
              "  </thead>\n",
              "  <tbody>\n",
              "    <tr>\n",
              "      <th>3312</th>\n",
              "      <td>CS4424</td>\n",
              "      <td>2933</td>\n",
              "    </tr>\n",
              "    <tr>\n",
              "      <th>3208</th>\n",
              "      <td>CS4320</td>\n",
              "      <td>2647</td>\n",
              "    </tr>\n",
              "    <tr>\n",
              "      <th>4640</th>\n",
              "      <td>CS5752</td>\n",
              "      <td>2612</td>\n",
              "    </tr>\n",
              "    <tr>\n",
              "      <th>3548</th>\n",
              "      <td>CS4660</td>\n",
              "      <td>2527</td>\n",
              "    </tr>\n",
              "    <tr>\n",
              "      <th>2687</th>\n",
              "      <td>CS3799</td>\n",
              "      <td>2513</td>\n",
              "    </tr>\n",
              "  </tbody>\n",
              "</table>\n",
              "</div>"
            ],
            "text/plain": [
              "     customer_id  tran_amount\n",
              "3312      CS4424         2933\n",
              "3208      CS4320         2647\n",
              "4640      CS5752         2612\n",
              "3548      CS4660         2527\n",
              "2687      CS3799         2513"
            ]
          },
          "execution_count": 23,
          "metadata": {},
          "output_type": "execute_result"
        }
      ],
      "source": [
        "# Customers having highest value of orders\n",
        "\n",
        "customer_sales= df.groupby('customer_id')['tran_amount'].sum().reset_index()\n",
        "customer_sales\n",
        "\n",
        "# sort\n",
        "\n",
        "top_5_sal= customer_sales.sort_values(by='tran_amount', ascending=False).head(5)\n",
        "top_5_sal"
      ]
    },
    {
      "cell_type": "code",
      "execution_count": null,
      "id": "774eabbe",
      "metadata": {
        "id": "774eabbe",
        "outputId": "5c9f370b-db59-4d92-f261-e3a2f9f1c001"
      },
      "outputs": [
        {
          "data": {
            "text/plain": [
              "<Axes: xlabel='customer_id', ylabel='tran_amount'>"
            ]
          },
          "execution_count": 24,
          "metadata": {},
          "output_type": "execute_result"
        },
        {
          "data": {
            "image/png": "[encoded data removed]",
            "text/plain": [
              "<Figure size 640x480 with 1 Axes>"
            ]
          },
          "metadata": {},
          "output_type": "display_data"
        }
      ],
      "source": [
        "sns.barplot(x='customer_id',y='tran_amount',data=top_5_sal)"
      ]
    },
    {
      "cell_type": "markdown",
      "id": "aa1dc9e2",
      "metadata": {
        "id": "aa1dc9e2"
      },
      "source": [
        "## Advanced Analytics"
      ]
    },
    {
      "cell_type": "markdown",
      "id": "f1be5575",
      "metadata": {
        "id": "f1be5575"
      },
      "source": [
        "### Time Series Analysis"
      ]
    },
    {
      "cell_type": "code",
      "execution_count": null,
      "id": "8ce1d00b",
      "metadata": {
        "id": "8ce1d00b",
        "outputId": "61377227-dec4-4a2d-e9ed-fe24c57429a7"
      },
      "outputs": [
        {
          "name": "stderr",
          "output_type": "stream",
          "text": [
            "C:\\Users\\new\\AppData\\Local\\Temp\\ipykernel_9528\\3171706351.py:4: SettingWithCopyWarning: \n",
            "A value is trying to be set on a copy of a slice from a DataFrame.\n",
            "Try using .loc[row_indexer,col_indexer] = value instead\n",
            "\n",
            "See the caveats in the documentation: https://pandas.pydata.org/pandas-docs/stable/user_guide/indexing.html#returning-a-view-versus-a-copy\n",
            "  df['month_year'] = df['trans_date'].dt.to_period('M')\n"
          ]
        },
        {
          "data": {
            "image/png": "[encoded data removed]",
            "text/plain": [
              "<Figure size 1200x600 with 1 Axes>"
            ]
          },
          "metadata": {},
          "output_type": "display_data"
        }
      ],
      "source": [
        "import matplotlib.pyplot as plt\n",
        "import matplotlib.dates as mdates\n",
        "\n",
        "df['month_year'] = df['trans_date'].dt.to_period('M')\n",
        "monthly_sales = df.groupby('month_year')['tran_amount'].sum()\n",
        "\n",
        "# Convert the PeriodIndex to DateTimeIndex\n",
        "monthly_sales.index = monthly_sales.index.to_timestamp()\n",
        "\n",
        "plt.figure(figsize=(12,6))  # Increase the size of the figure\n",
        "plt.plot(monthly_sales.index, monthly_sales.values)  # Plot the data\n",
        "plt.gca().xaxis.set_major_formatter(mdates.DateFormatter('%Y-%m'))  # Format the x-axis labels\n",
        "plt.gca().xaxis.set_major_locator(mdates.MonthLocator(interval=6))  # Set the x-axis interval\n",
        "plt.xlabel('Month-Year')\n",
        "plt.ylabel('Sales')\n",
        "plt.title('Monthly Sales')\n",
        "plt.xticks(rotation=45)  # Rotate the x-axis labels\n",
        "plt.tight_layout()  # Adjust the layout for better visibility\n",
        "plt.show()\n"
      ]
    },
    {
      "cell_type": "markdown",
      "id": "10137291",
      "metadata": {
        "id": "10137291"
      },
      "source": [
        "### Cohort Segmentation"
      ]
    },
    {
      "cell_type": "code",
      "execution_count": null,
      "id": "74cf6a5f",
      "metadata": {
        "id": "74cf6a5f"
      },
      "outputs": [],
      "source": [
        "# Recency will be the maximum of trans_date\n",
        "recency = df.groupby('customer_id')['trans_date'].max()\n",
        "\n",
        "# Frequency will be the count of transactions\n",
        "frequency = df.groupby('customer_id')['trans_date'].count()\n",
        "\n",
        "# Monetary will be the sum of tran_amount\n",
        "monetary = df.groupby('customer_id')['tran_amount'].sum()\n",
        "\n",
        "# Combine all three into a DataFrame\n",
        "rfm = pd.DataFrame({'recency': recency, 'frequency': frequency, 'monetary': monetary})"
      ]
    },
    {
      "cell_type": "code",
      "execution_count": null,
      "id": "26ee0467",
      "metadata": {
        "id": "26ee0467"
      },
      "outputs": [],
      "source": [
        "def segment_customer(row):\n",
        "    if row['recency'].year >= 2012 and row['frequency'] >= 15 and row['monetary'] > 1000:\n",
        "        return 'P0'\n",
        "    elif (2011 <= row['recency'].year < 2012) and (10 < row['frequency'] <= 15) and (500 < row['monetary'] <= 1000):\n",
        "        return 'P1'\n",
        "    else:\n",
        "        return 'P2'\n",
        "\n",
        "rfm['Segment'] = rfm.apply(segment_customer, axis=1)\n"
      ]
    },
    {
      "cell_type": "code",
      "execution_count": null,
      "id": "18cd7bd5",
      "metadata": {
        "id": "18cd7bd5",
        "outputId": "b4ee277b-3216-4752-a5b3-a539489b0868"
      },
      "outputs": [
        {
          "data": {
            "text/html": [
              "<div>\n",
              "<style scoped>\n",
              "    .dataframe tbody tr th:only-of-type {\n",
              "        vertical-align: middle;\n",
              "    }\n",
              "\n",
              "    .dataframe tbody tr th {\n",
              "        vertical-align: top;\n",
              "    }\n",
              "\n",
              "    .dataframe thead th {\n",
              "        text-align: right;\n",
              "    }\n",
              "</style>\n",
              "<table border=\"1\" class=\"dataframe\">\n",
              "  <thead>\n",
              "    <tr style=\"text-align: right;\">\n",
              "      <th></th>\n",
              "      <th>recency</th>\n",
              "      <th>frequency</th>\n",
              "      <th>monetary</th>\n",
              "      <th>Segment</th>\n",
              "    </tr>\n",
              "    <tr>\n",
              "      <th>customer_id</th>\n",
              "      <th></th>\n",
              "      <th></th>\n",
              "      <th></th>\n",
              "      <th></th>\n",
              "    </tr>\n",
              "  </thead>\n",
              "  <tbody>\n",
              "    <tr>\n",
              "      <th>CS1112</th>\n",
              "      <td>2015-01-14</td>\n",
              "      <td>15</td>\n",
              "      <td>1012</td>\n",
              "      <td>P0</td>\n",
              "    </tr>\n",
              "    <tr>\n",
              "      <th>CS1113</th>\n",
              "      <td>2015-02-09</td>\n",
              "      <td>20</td>\n",
              "      <td>1490</td>\n",
              "      <td>P0</td>\n",
              "    </tr>\n",
              "    <tr>\n",
              "      <th>CS1114</th>\n",
              "      <td>2015-02-12</td>\n",
              "      <td>19</td>\n",
              "      <td>1432</td>\n",
              "      <td>P0</td>\n",
              "    </tr>\n",
              "    <tr>\n",
              "      <th>CS1115</th>\n",
              "      <td>2015-03-05</td>\n",
              "      <td>22</td>\n",
              "      <td>1659</td>\n",
              "      <td>P0</td>\n",
              "    </tr>\n",
              "    <tr>\n",
              "      <th>CS1116</th>\n",
              "      <td>2014-08-25</td>\n",
              "      <td>13</td>\n",
              "      <td>857</td>\n",
              "      <td>P2</td>\n",
              "    </tr>\n",
              "    <tr>\n",
              "      <th>...</th>\n",
              "      <td>...</td>\n",
              "      <td>...</td>\n",
              "      <td>...</td>\n",
              "      <td>...</td>\n",
              "    </tr>\n",
              "    <tr>\n",
              "      <th>CS8996</th>\n",
              "      <td>2014-12-09</td>\n",
              "      <td>13</td>\n",
              "      <td>582</td>\n",
              "      <td>P2</td>\n",
              "    </tr>\n",
              "    <tr>\n",
              "      <th>CS8997</th>\n",
              "      <td>2014-06-28</td>\n",
              "      <td>14</td>\n",
              "      <td>543</td>\n",
              "      <td>P2</td>\n",
              "    </tr>\n",
              "    <tr>\n",
              "      <th>CS8998</th>\n",
              "      <td>2014-12-22</td>\n",
              "      <td>13</td>\n",
              "      <td>624</td>\n",
              "      <td>P2</td>\n",
              "    </tr>\n",
              "    <tr>\n",
              "      <th>CS8999</th>\n",
              "      <td>2014-07-02</td>\n",
              "      <td>12</td>\n",
              "      <td>383</td>\n",
              "      <td>P2</td>\n",
              "    </tr>\n",
              "    <tr>\n",
              "      <th>CS9000</th>\n",
              "      <td>2015-02-28</td>\n",
              "      <td>13</td>\n",
              "      <td>533</td>\n",
              "      <td>P2</td>\n",
              "    </tr>\n",
              "  </tbody>\n",
              "</table>\n",
              "<p>6884 rows × 4 columns</p>\n",
              "</div>"
            ],
            "text/plain": [
              "               recency  frequency  monetary Segment\n",
              "customer_id                                        \n",
              "CS1112      2015-01-14         15      1012      P0\n",
              "CS1113      2015-02-09         20      1490      P0\n",
              "CS1114      2015-02-12         19      1432      P0\n",
              "CS1115      2015-03-05         22      1659      P0\n",
              "CS1116      2014-08-25         13       857      P2\n",
              "...                ...        ...       ...     ...\n",
              "CS8996      2014-12-09         13       582      P2\n",
              "CS8997      2014-06-28         14       543      P2\n",
              "CS8998      2014-12-22         13       624      P2\n",
              "CS8999      2014-07-02         12       383      P2\n",
              "CS9000      2015-02-28         13       533      P2\n",
              "\n",
              "[6884 rows x 4 columns]"
            ]
          },
          "execution_count": 33,
          "metadata": {},
          "output_type": "execute_result"
        }
      ],
      "source": [
        "rfm"
      ]
    },
    {
      "cell_type": "code",
      "execution_count": null,
      "id": "168d4756",
      "metadata": {
        "id": "168d4756",
        "outputId": "a996db52-855b-477e-93a8-3693bac1953b"
      },
      "outputs": [
        {
          "data": {
            "text/plain": [
              "{'P0', 'P2'}"
            ]
          },
          "execution_count": 34,
          "metadata": {},
          "output_type": "execute_result"
        }
      ],
      "source": [
        "set(rfm['Segment'])"
      ]
    },
    {
      "cell_type": "markdown",
      "id": "b4aa96c8",
      "metadata": {
        "id": "b4aa96c8"
      },
      "source": [
        "### Churn Analysis"
      ]
    },
    {
      "cell_type": "code",
      "execution_count": null,
      "id": "d33cb0e6",
      "metadata": {
        "id": "d33cb0e6",
        "outputId": "e8698a20-6e99-4081-f597-8dde916e62e5"
      },
      "outputs": [
        {
          "data": {
            "text/plain": [
              "<Axes: xlabel='response'>"
            ]
          },
          "execution_count": 30,
          "metadata": {},
          "output_type": "execute_result"
        },
        {
          "data": {
            "image/png": "[encoded data removed]",
            "text/plain": [
              "<Figure size 640x480 with 1 Axes>"
            ]
          },
          "metadata": {},
          "output_type": "display_data"
        }
      ],
      "source": [
        "# Count the number of churned and active customers\n",
        "churn_counts = df['response'].value_counts()\n",
        "\n",
        "# Plot\n",
        "churn_counts.plot(kind='bar')\n"
      ]
    },
    {
      "cell_type": "markdown",
      "id": "5ed6c7fd",
      "metadata": {
        "id": "5ed6c7fd"
      },
      "source": [
        "### Analyzing top customers"
      ]
    },
    {
      "cell_type": "code",
      "execution_count": null,
      "id": "4a9cd6d7",
      "metadata": {
        "id": "4a9cd6d7",
        "outputId": "5bef8005-36e3-41e7-d525-228096923871"
      },
      "outputs": [
        {
          "data": {
            "text/plain": [
              "<Axes: xlabel='month_year'>"
            ]
          },
          "execution_count": 31,
          "metadata": {},
          "output_type": "execute_result"
        },
        {
          "data": {
            "image/png": "[encoded data removed]",
            "text/plain": [
              "<Figure size 640x480 with 1 Axes>"
            ]
          },
          "metadata": {},
          "output_type": "display_data"
        }
      ],
      "source": [
        "# Top 5 customers\n",
        "top_5_customers = monetary.sort_values(ascending=False).head(5).index\n",
        "\n",
        "# Filter transactions of top 5 customers\n",
        "top_customers_df = df[df['customer_id'].isin(top_5_customers)]\n",
        "\n",
        "# Plot their monthly sales\n",
        "top_customers_sales = top_customers_df.groupby(['customer_id', 'month_year'])['tran_amount'].sum().unstack(level=0)\n",
        "top_customers_sales.plot(kind='line')\n"
      ]
    }
  ],
  "metadata": {
    "kernelspec": {
      "display_name": "Python 3 (ipykernel)",
      "language": "python",
      "name": "python3"
    },
    "language_info": {
      "codemirror_mode": {
        "name": "ipython",
        "version": 3
      },
      "file_extension": ".py",
      "mimetype": "text/x-python",
      "name": "python",
      "nbconvert_exporter": "python",
      "pygments_lexer": "ipython3",
      "version": "3.11.5"
    },
    "colab": {
      "provenance": []
    }
  },
  "nbformat": 4,
  "nbformat_minor": 5
}